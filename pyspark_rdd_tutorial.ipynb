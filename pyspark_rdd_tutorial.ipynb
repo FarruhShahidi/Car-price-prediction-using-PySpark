{
  "nbformat": 4,
  "nbformat_minor": 0,
  "metadata": {
    "colab": {
      "name": "code_empty.ipynb",
      "provenance": [],
      "collapsed_sections": []
    },
    "kernelspec": {
      "display_name": "Python 3",
      "language": "python",
      "name": "python3"
    },
    "language_info": {
      "codemirror_mode": {
        "name": "ipython",
        "version": 3
      },
      "file_extension": ".py",
      "mimetype": "text/x-python",
      "name": "python",
      "nbconvert_exporter": "python",
      "pygments_lexer": "ipython3",
      "version": "3.6.9"
    }
  },
  "cells": [
    {
      "cell_type": "markdown",
      "metadata": {
        "id": "furYNSqvb1B_"
      },
      "source": [
        "Task 1 - Install Spark, load required libraries, set environment variables, initiate Spark, load file"
      ]
    },
    {
      "cell_type": "code",
      "metadata": {
        "id": "lh5NCoc8fsSO"
      },
      "source": [
        "!apt-get install openjdk-8-jdk-headless -qq > /dev/null\n",
        "!wget -q https://downloads.apache.org/spark/spark-2.4.7/spark-2.4.7-bin-hadoop2.7.tgz\n",
        "!tar xf spark-2.4.7-bin-hadoop2.7.tgz\n",
        "!pip install -q findspark"
      ],
      "execution_count": 2,
      "outputs": []
    },
    {
      "cell_type": "code",
      "metadata": {
        "id": "Vg2-yaUvqgpu"
      },
      "source": [
        "import os\n",
        "os.environ[\"JAVA_HOME\"] = \"/usr/lib/jvm/java-8-openjdk-amd64\"\n",
        "os.environ[\"SPARK_HOME\"] = \"/content/spark-2.4.7-bin-hadoop2.7\"\n",
        "import findspark\n",
        "findspark.init()\n",
        "\n"
      ],
      "execution_count": 7,
      "outputs": []
    },
    {
      "cell_type": "code",
      "metadata": {
        "id": "plW6ojgmqouW"
      },
      "source": [
        "from pyspark import SparkContext"
      ],
      "execution_count": 8,
      "outputs": []
    },
    {
      "cell_type": "code",
      "metadata": {
        "id": "rOX65P2drCje"
      },
      "source": [
        "sc = SparkContext()"
      ],
      "execution_count": 9,
      "outputs": []
    },
    {
      "cell_type": "code",
      "metadata": {
        "id": "kJPdv6yXrS0z",
        "outputId": "ee9ffedd-8a8c-4459-f871-49fa3e2923cd",
        "colab": {
          "base_uri": "https://localhost:8080/"
        }
      },
      "source": [
        "%%writefile example.txt\n",
        "first \n",
        "second line \n",
        "the third line \n",
        "then a fourth line\n",
        "and here is a fifth line "
      ],
      "execution_count": 21,
      "outputs": [
        {
          "output_type": "stream",
          "text": [
            "Overwriting example.txt\n"
          ],
          "name": "stdout"
        }
      ]
    },
    {
      "cell_type": "code",
      "metadata": {
        "id": "tkrK4QTPrjCI"
      },
      "source": [
        "textFile = sc.textFile('example.txt')"
      ],
      "execution_count": 22,
      "outputs": []
    },
    {
      "cell_type": "code",
      "metadata": {
        "id": "Gh3ucLMWrvLu",
        "outputId": "962353f4-ac10-4964-ddbe-4d888602def0",
        "colab": {
          "base_uri": "https://localhost:8080/"
        }
      },
      "source": [
        "textFile.count()\n"
      ],
      "execution_count": 23,
      "outputs": [
        {
          "output_type": "execute_result",
          "data": {
            "text/plain": [
              "5"
            ]
          },
          "metadata": {
            "tags": []
          },
          "execution_count": 23
        }
      ]
    },
    {
      "cell_type": "code",
      "metadata": {
        "id": "iXhceBYqsFKC",
        "outputId": "c5d9f096-141c-43fa-cf7f-dc5ef61d2b2d",
        "colab": {
          "base_uri": "https://localhost:8080/",
          "height": 35
        }
      },
      "source": [
        "textFile.first()"
      ],
      "execution_count": 24,
      "outputs": [
        {
          "output_type": "execute_result",
          "data": {
            "application/vnd.google.colaboratory.intrinsic+json": {
              "type": "string"
            },
            "text/plain": [
              "'first '"
            ]
          },
          "metadata": {
            "tags": []
          },
          "execution_count": 24
        }
      ]
    },
    {
      "cell_type": "code",
      "metadata": {
        "id": "ukxotDvdsLLy"
      },
      "source": [
        "secfind = textFile.filter(lambda line: 'second' in line)"
      ],
      "execution_count": 25,
      "outputs": []
    },
    {
      "cell_type": "code",
      "metadata": {
        "id": "ZEAGOnV2sVWP",
        "outputId": "6520cdd1-4d48-45e6-d3f0-4e3af78f4c31",
        "colab": {
          "base_uri": "https://localhost:8080/"
        }
      },
      "source": [
        "secfind"
      ],
      "execution_count": 26,
      "outputs": [
        {
          "output_type": "execute_result",
          "data": {
            "text/plain": [
              "PythonRDD[10] at RDD at PythonRDD.scala:53"
            ]
          },
          "metadata": {
            "tags": []
          },
          "execution_count": 26
        }
      ]
    },
    {
      "cell_type": "code",
      "metadata": {
        "id": "hZERnItRuS4J"
      },
      "source": [
        "text_rdd = sc.textFile('example.txt')"
      ],
      "execution_count": 27,
      "outputs": []
    },
    {
      "cell_type": "code",
      "metadata": {
        "id": "htIjbc93u0oL"
      },
      "source": [
        "words = text_rdd.map(lambda line: line.split())"
      ],
      "execution_count": 28,
      "outputs": []
    },
    {
      "cell_type": "code",
      "metadata": {
        "id": "4aOsgD-gu8Pq",
        "outputId": "da16d1e2-0baf-4178-e7f9-6fd0e90345c6",
        "colab": {
          "base_uri": "https://localhost:8080/"
        }
      },
      "source": [
        "words.collect()"
      ],
      "execution_count": 29,
      "outputs": [
        {
          "output_type": "execute_result",
          "data": {
            "text/plain": [
              "[['first'],\n",
              " ['second', 'line'],\n",
              " ['the', 'third', 'line'],\n",
              " ['then', 'a', 'fourth', 'line'],\n",
              " ['and', 'here', 'is', 'a', 'fifth', 'line']]"
            ]
          },
          "metadata": {
            "tags": []
          },
          "execution_count": 29
        }
      ]
    },
    {
      "cell_type": "code",
      "metadata": {
        "id": "Cw7wiIwUu_WS",
        "outputId": "07555ba5-b9e1-45b4-88c2-e6da0686d763",
        "colab": {
          "base_uri": "https://localhost:8080/"
        }
      },
      "source": [
        "text_rdd.collect()"
      ],
      "execution_count": 30,
      "outputs": [
        {
          "output_type": "execute_result",
          "data": {
            "text/plain": [
              "['first ',\n",
              " 'second line ',\n",
              " 'the third line ',\n",
              " 'then a fourth line',\n",
              " 'and here is a fifth line ']"
            ]
          },
          "metadata": {
            "tags": []
          },
          "execution_count": 30
        }
      ]
    },
    {
      "cell_type": "code",
      "metadata": {
        "id": "ZUKdK1oNvDoB",
        "outputId": "8c5529e8-da92-4352-ba5d-3b07707d7231",
        "colab": {
          "base_uri": "https://localhost:8080/"
        }
      },
      "source": [
        "text_rdd.flatMap(lambda line : line.split()).collect()"
      ],
      "execution_count": 31,
      "outputs": [
        {
          "output_type": "execute_result",
          "data": {
            "text/plain": [
              "['first',\n",
              " 'second',\n",
              " 'line',\n",
              " 'the',\n",
              " 'third',\n",
              " 'line',\n",
              " 'then',\n",
              " 'a',\n",
              " 'fourth',\n",
              " 'line',\n",
              " 'and',\n",
              " 'here',\n",
              " 'is',\n",
              " 'a',\n",
              " 'fifth',\n",
              " 'line']"
            ]
          },
          "metadata": {
            "tags": []
          },
          "execution_count": 31
        }
      ]
    },
    {
      "cell_type": "code",
      "metadata": {
        "id": "uhLSwHPqvU8G",
        "outputId": "8e712a13-00ac-4c29-89e1-70b0e9c90ed4",
        "colab": {
          "base_uri": "https://localhost:8080/"
        }
      },
      "source": [
        "%%writefile services.txt\n",
        "#EventId    Timestamp    Customer   State    ServiceID    Amount\n",
        "201       10/13/2017      100       NY       131          100.00\n",
        "204       10/18/2017      700       TX       129          450.00\n",
        "202       10/15/2017      203       CA       121          200.00\n",
        "206       10/19/2017      202       CA       131          500.00\n",
        "203       10/17/2017      101       NY       173          750.00\n",
        "205       10/19/2017      202       TX       121          200.00"
      ],
      "execution_count": 33,
      "outputs": [
        {
          "output_type": "stream",
          "text": [
            "Overwriting services.txt\n"
          ],
          "name": "stdout"
        }
      ]
    },
    {
      "cell_type": "code",
      "metadata": {
        "id": "SAI46QoF07kP"
      },
      "source": [
        "services = sc.textFile('services.txt')"
      ],
      "execution_count": 34,
      "outputs": []
    },
    {
      "cell_type": "code",
      "metadata": {
        "id": "GO63OWGx1CPU",
        "outputId": "e40b1dd2-fe06-40ec-ae67-c383dee38dfa",
        "colab": {
          "base_uri": "https://localhost:8080/"
        }
      },
      "source": [
        "services.take(2)"
      ],
      "execution_count": 35,
      "outputs": [
        {
          "output_type": "execute_result",
          "data": {
            "text/plain": [
              "['#EventId    Timestamp    Customer   State    ServiceID    Amount',\n",
              " '201       10/13/2017      100       NY       131          100.00']"
            ]
          },
          "metadata": {
            "tags": []
          },
          "execution_count": 35
        }
      ]
    },
    {
      "cell_type": "code",
      "metadata": {
        "id": "zMLj6-Fq1IFC",
        "outputId": "2e24081e-fdd5-4c7e-dcc6-d5c52af0ef51",
        "colab": {
          "base_uri": "https://localhost:8080/"
        }
      },
      "source": [
        "services.map(lambda line: line.split()).take(3)"
      ],
      "execution_count": 37,
      "outputs": [
        {
          "output_type": "execute_result",
          "data": {
            "text/plain": [
              "[['#EventId', 'Timestamp', 'Customer', 'State', 'ServiceID', 'Amount'],\n",
              " ['201', '10/13/2017', '100', 'NY', '131', '100.00'],\n",
              " ['204', '10/18/2017', '700', 'TX', '129', '450.00']]"
            ]
          },
          "metadata": {
            "tags": []
          },
          "execution_count": 37
        }
      ]
    },
    {
      "cell_type": "code",
      "metadata": {
        "id": "btPwPKyY1R_o"
      },
      "source": [
        "clean = services.map(lambda line: line[1:] if line[0] == \"#\" else line)"
      ],
      "execution_count": 41,
      "outputs": []
    },
    {
      "cell_type": "code",
      "metadata": {
        "id": "cRzjEBSz1uPc"
      },
      "source": [
        "clean = clean.map(lambda line: line.split())"
      ],
      "execution_count": 42,
      "outputs": []
    },
    {
      "cell_type": "code",
      "metadata": {
        "id": "s-WMT_E62Oqf",
        "outputId": "d4796433-ca5f-49f2-ca06-5b6bca81cc12",
        "colab": {
          "base_uri": "https://localhost:8080/"
        }
      },
      "source": [
        "clean.collect()"
      ],
      "execution_count": 43,
      "outputs": [
        {
          "output_type": "execute_result",
          "data": {
            "text/plain": [
              "[['EventId', 'Timestamp', 'Customer', 'State', 'ServiceID', 'Amount'],\n",
              " ['201', '10/13/2017', '100', 'NY', '131', '100.00'],\n",
              " ['204', '10/18/2017', '700', 'TX', '129', '450.00'],\n",
              " ['202', '10/15/2017', '203', 'CA', '121', '200.00'],\n",
              " ['206', '10/19/2017', '202', 'CA', '131', '500.00'],\n",
              " ['203', '10/17/2017', '101', 'NY', '173', '750.00'],\n",
              " ['205', '10/19/2017', '202', 'TX', '121', '200.00']]"
            ]
          },
          "metadata": {
            "tags": []
          },
          "execution_count": 43
        }
      ]
    },
    {
      "cell_type": "code",
      "metadata": {
        "id": "Tt5yQm722ig-"
      },
      "source": [
        "pairs = clean.map(lambda lst: (lst[3], lst[-1]))"
      ],
      "execution_count": 45,
      "outputs": []
    },
    {
      "cell_type": "code",
      "metadata": {
        "id": "6Hh8NR5t3N_t"
      },
      "source": [
        "rekey = pairs.reduceByKey(lambda x,y: float(x) + float(y))"
      ],
      "execution_count": 51,
      "outputs": []
    },
    {
      "cell_type": "code",
      "metadata": {
        "id": "hb9agSey3YFz",
        "outputId": "a2079abe-c28a-490a-f258-4204f5ea604f",
        "colab": {
          "base_uri": "https://localhost:8080/"
        }
      },
      "source": [
        "rekey.collect()"
      ],
      "execution_count": 52,
      "outputs": [
        {
          "output_type": "execute_result",
          "data": {
            "text/plain": [
              "[('State', 'Amount'), ('NY', 850.0), ('TX', 650.0), ('CA', 700.0)]"
            ]
          },
          "metadata": {
            "tags": []
          },
          "execution_count": 52
        }
      ]
    },
    {
      "cell_type": "code",
      "metadata": {
        "id": "vERwgJfH3z-B",
        "outputId": "d964879e-ba66-4d5a-fb5d-5205b3a2e45e",
        "colab": {
          "base_uri": "https://localhost:8080/"
        }
      },
      "source": [
        "clean.collect()"
      ],
      "execution_count": 53,
      "outputs": [
        {
          "output_type": "execute_result",
          "data": {
            "text/plain": [
              "[['EventId', 'Timestamp', 'Customer', 'State', 'ServiceID', 'Amount'],\n",
              " ['201', '10/13/2017', '100', 'NY', '131', '100.00'],\n",
              " ['204', '10/18/2017', '700', 'TX', '129', '450.00'],\n",
              " ['202', '10/15/2017', '203', 'CA', '121', '200.00'],\n",
              " ['206', '10/19/2017', '202', 'CA', '131', '500.00'],\n",
              " ['203', '10/17/2017', '101', 'NY', '173', '750.00'],\n",
              " ['205', '10/19/2017', '202', 'TX', '121', '200.00']]"
            ]
          },
          "metadata": {
            "tags": []
          },
          "execution_count": 53
        }
      ]
    },
    {
      "cell_type": "code",
      "metadata": {
        "id": "lu5DgumU33q-",
        "outputId": "a116c5e8-6bf2-4aae-fdae-3c37821cbc56",
        "colab": {
          "base_uri": "https://localhost:8080/"
        }
      },
      "source": [
        "# State, Amount pairs\n",
        "step1 = clean.map(lambda lst : (lst[3], lst[-1]))\n",
        "# reduce by Key\n",
        "step2 = step1.reduceByKey(lambda x, y : float(x) + float(y))\n",
        "# get rid of State and Amount titles\n",
        "step3 = step2.filter(lambda x: not x[0] == \"State\")\n",
        "# sort the result\n",
        "step4 = step3.sortBy(lambda x: x[1], ascending=False)\n",
        "step4.collect()"
      ],
      "execution_count": 57,
      "outputs": [
        {
          "output_type": "execute_result",
          "data": {
            "text/plain": [
              "[('NY', 850.0), ('CA', 700.0), ('TX', 650.0)]"
            ]
          },
          "metadata": {
            "tags": []
          },
          "execution_count": 57
        }
      ]
    },
    {
      "cell_type": "code",
      "metadata": {
        "id": "41LgOU004rsC"
      },
      "source": [
        "x = [\"ID\", \"State\", \"Amount\"]\n"
      ],
      "execution_count": 58,
      "outputs": []
    },
    {
      "cell_type": "code",
      "metadata": {
        "id": "4P5ShtAd5Gxi"
      },
      "source": [
        ""
      ],
      "execution_count": 59,
      "outputs": []
    },
    {
      "cell_type": "code",
      "metadata": {
        "id": "QbUePdQB5Qh4"
      },
      "source": [
        "\n"
      ],
      "execution_count": null,
      "outputs": []
    }
  ]
}